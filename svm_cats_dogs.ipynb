{
  "nbformat": 4,
  "nbformat_minor": 0,
  "metadata": {
    "colab": {
      "provenance": []
    },
    "kernelspec": {
      "name": "python3",
      "display_name": "Python 3"
    },
    "language_info": {
      "name": "python"
    }
  },
  "cells": [
    {
      "cell_type": "code",
      "execution_count": null,
      "metadata": {
        "id": "9XsxSGwFyAmz"
      },
      "outputs": [],
      "source": [
        "!mkdir -p ~/.kaggle\n",
        "!mv kaggle.json ~/.kaggle/\n",
        "!chmod 600 ~/.kaggle/kaggle.json"
      ]
    },
    {
      "cell_type": "code",
      "source": [
        "!kaggle datasets download -d shaunthesheep/microsoft-catsvsdogs-dataset"
      ],
      "metadata": {
        "colab": {
          "base_uri": "https://localhost:8080/"
        },
        "id": "I_lksNHEF0n7",
        "outputId": "e2727a69-39f0-4ad7-b6c2-77258a72c5ed"
      },
      "execution_count": null,
      "outputs": [
        {
          "output_type": "stream",
          "name": "stdout",
          "text": [
            "Dataset URL: https://www.kaggle.com/datasets/shaunthesheep/microsoft-catsvsdogs-dataset\n",
            "License(s): other\n",
            "Downloading microsoft-catsvsdogs-dataset.zip to /content\n",
            "100% 786M/788M [00:29<00:00, 26.4MB/s]\n",
            "100% 788M/788M [00:29<00:00, 27.9MB/s]\n"
          ]
        }
      ]
    },
    {
      "cell_type": "code",
      "source": [
        "import zipfile\n",
        "\n",
        "with zipfile.ZipFile('dogs-vs-cats.zip', 'r') as zip_ref:\n",
        "    zip_ref.extractall('dogs-vs-cats')"
      ],
      "metadata": {
        "id": "tKf0CP63F_uw"
      },
      "execution_count": null,
      "outputs": []
    },
    {
      "cell_type": "code",
      "source": [
        "import os\n",
        "dataset_path = 'dogs-vs-cats/PetImages'  # Adjust this if necessary\n",
        "cats_path = os.path.join(dataset_path, 'Cat')\n",
        "dogs_path = os.path.join(dataset_path, 'Dog')"
      ],
      "metadata": {
        "id": "KHBDlOPJGQqt"
      },
      "execution_count": null,
      "outputs": []
    },
    {
      "cell_type": "code",
      "source": [
        "from skimage import io, color\n",
        "from skimage.transform import resize\n",
        "import numpy as np\n",
        "from sklearn.model_selection import train_test_split\n",
        "from sklearn.svm import SVC\n",
        "from sklearn.metrics import accuracy_score"
      ],
      "metadata": {
        "id": "EZh5HOiFGiWR"
      },
      "execution_count": null,
      "outputs": []
    },
    {
      "cell_type": "code",
      "source": [
        "# Function to load and preprocess images\n",
        "def load_and_preprocess_images(image_paths, image_size=(64, 64)):\n",
        "    images = []\n",
        "    for path in image_paths:\n",
        "        try:\n",
        "            image = io.imread(path)  # Load image from file\n",
        "\n",
        "            # Check if the image has 2 or 3 dimensions\n",
        "            if image.ndim == 2:  # Grayscale image\n",
        "                image_resized = resize(image, image_size, anti_aliasing=True)  # Resize to a fixed size\n",
        "                image_gray = image_resized  # It's already grayscale\n",
        "            elif image.ndim == 3 and image.shape[2] == 3:  # RGB image\n",
        "                image_resized = resize(image, image_size, anti_aliasing=True)  # Resize to a fixed size\n",
        "                image_gray = color.rgb2gray(image_resized)  # Convert to grayscale\n",
        "            else:\n",
        "                raise ValueError(\"Unexpected image shape: {image.shape}\")\n",
        "\n",
        "\n",
        "            images.append(image_gray.flatten())  # Flatten the image to a 1D array\n",
        "        except Exception as e:\n",
        "            print(f\"Error processing {path}: {e}\")\n",
        "\n",
        "    return np.array(images)  # Return as a numpy array"
      ],
      "metadata": {
        "id": "h28A3RxCGpgK"
      },
      "execution_count": null,
      "outputs": []
    },
    {
      "cell_type": "code",
      "source": [
        "def get_image_paths(directory):\n",
        "    return [os.path.join(directory, filename) for filename in os.listdir(directory)]"
      ],
      "metadata": {
        "id": "xa66p3YTGyMj"
      },
      "execution_count": null,
      "outputs": []
    },
    {
      "cell_type": "code",
      "source": [
        "cat_image_paths = get_image_paths(cats_path)\n",
        "dog_image_paths = get_image_paths(dogs_path)"
      ],
      "metadata": {
        "id": "AqRn9faLG6kF"
      },
      "execution_count": null,
      "outputs": []
    },
    {
      "cell_type": "code",
      "source": [
        "# Preprocess images\n",
        "cat_images = load_and_preprocess_images(cat_image_paths)\n",
        "dog_images = load_and_preprocess_images(dog_image_paths)\n",
        "\n",
        "# Create labels (0 for cats, 1 for dogs)\n",
        "cat_labels = np.zeros(cat_images.shape[0])\n",
        "dog_labels = np.ones(dog_images.shape[0])"
      ],
      "metadata": {
        "colab": {
          "base_uri": "https://localhost:8080/"
        },
        "id": "axsVY10PHESC",
        "outputId": "6d04bcc2-ee8e-4ad7-a865-b76910691360"
      },
      "execution_count": null,
      "outputs": [
        {
          "output_type": "stream",
          "name": "stdout",
          "text": [
            "Error processing dogs-vs-cats/PetImages/Cat/10404.jpg: attempt to seek outside sequence\n",
            "Error processing dogs-vs-cats/PetImages/Cat/666.jpg: 'NoneType' object has no attribute 'ReadAsArray'\n",
            "Error processing dogs-vs-cats/PetImages/Cat/Thumbs.db: Could not find a backend to open `dogs-vs-cats/PetImages/Cat/Thumbs.db`` with iomode `ri`.\n",
            "Error processing dogs-vs-cats/PetImages/Dog/11285.jpg: Unexpected image shape: {image.shape}\n",
            "Error processing dogs-vs-cats/PetImages/Dog/7514.jpg: Unexpected image shape: {image.shape}\n",
            "Error processing dogs-vs-cats/PetImages/Dog/9078.jpg: Unexpected image shape: {image.shape}\n",
            "Error processing dogs-vs-cats/PetImages/Dog/6245.jpg: Unexpected image shape: {image.shape}\n",
            "Error processing dogs-vs-cats/PetImages/Dog/11702.jpg: 'NoneType' object has no attribute 'ReadAsArray'\n",
            "Error processing dogs-vs-cats/PetImages/Dog/1789.jpg: Unexpected image shape: {image.shape}\n",
            "Error processing dogs-vs-cats/PetImages/Dog/Thumbs.db: Could not find a backend to open `dogs-vs-cats/PetImages/Dog/Thumbs.db`` with iomode `ri`.\n"
          ]
        },
        {
          "output_type": "stream",
          "name": "stderr",
          "text": [
            "/usr/local/lib/python3.10/dist-packages/PIL/TiffImagePlugin.py:858: UserWarning: Truncated File Read\n",
            "  warnings.warn(str(msg))\n"
          ]
        }
      ]
    },
    {
      "cell_type": "code",
      "source": [
        "X = np.concatenate((cat_images, dog_images), axis=0)\n",
        "y = np.concatenate((cat_labels, dog_labels), axis=0)"
      ],
      "metadata": {
        "id": "3MxxVjt-w_hJ"
      },
      "execution_count": null,
      "outputs": []
    },
    {
      "cell_type": "code",
      "source": [
        "# Path to save the preprocessed data\n",
        "preprocessed_data_path = '/content/drive/My Drive/cats_dogs_preprocessed'\n",
        "\n",
        "# Save the preprocessed data arrays\n",
        "np.save(preprocessed_data_path + '_X.npy', X)\n",
        "np.save(preprocessed_data_path + '_y.npy', y)\n"
      ],
      "metadata": {
        "id": "oWC6Ce8c2h1N"
      },
      "execution_count": null,
      "outputs": []
    },
    {
      "cell_type": "code",
      "source": [
        "preprocessed_data_path = '/content/drive/MyDrive/cats_dogs_preprocessed'\n",
        "\n",
        "X = np.load(preprocessed_data_path+'_X.npy')\n",
        "y = np.load(preprocessed_data_path+'_y.npy')\n",
        "\n",
        "X = X/255.0"
      ],
      "metadata": {
        "id": "gB7jXFUzAL5m"
      },
      "execution_count": null,
      "outputs": []
    },
    {
      "cell_type": "code",
      "source": [
        "print(X.shape)"
      ],
      "metadata": {
        "colab": {
          "base_uri": "https://localhost:8080/"
        },
        "id": "2ISgs9PdEJIO",
        "outputId": "36cd6194-9d63-4b58-ba60-4db8e22cd19d"
      },
      "execution_count": null,
      "outputs": [
        {
          "output_type": "stream",
          "name": "stdout",
          "text": [
            "(24992, 4096)\n"
          ]
        }
      ]
    },
    {
      "cell_type": "code",
      "source": [
        "# Split the data into training and test sets\n",
        "X_train, X_test, y_train, y_test = train_test_split(X, y, test_size=0.2, random_state=42)"
      ],
      "metadata": {
        "id": "xBVeR_6uxCxt"
      },
      "execution_count": null,
      "outputs": []
    },
    {
      "cell_type": "code",
      "source": [
        "print(X_train.shape)"
      ],
      "metadata": {
        "colab": {
          "base_uri": "https://localhost:8080/"
        },
        "id": "IHmr9UQ1Ea_I",
        "outputId": "e763cd2f-bd04-49d3-f66e-a53d9a9351e1"
      },
      "execution_count": null,
      "outputs": [
        {
          "output_type": "stream",
          "name": "stdout",
          "text": [
            "(19993, 4096)\n"
          ]
        }
      ]
    },
    {
      "cell_type": "code",
      "source": [
        "model = SVC(kernel='linear')\n",
        "model.fit(X_train[:5000], y_train[:5000])"
      ],
      "metadata": {
        "colab": {
          "base_uri": "https://localhost:8080/",
          "height": 74
        },
        "id": "gNpzAUf8xIXW",
        "outputId": "aed2c44a-6d9d-428d-d53c-459f2fe9ee91"
      },
      "execution_count": null,
      "outputs": [
        {
          "output_type": "execute_result",
          "data": {
            "text/plain": [
              "SVC(kernel='linear')"
            ],
            "text/html": [
              "<style>#sk-container-id-2 {color: black;background-color: white;}#sk-container-id-2 pre{padding: 0;}#sk-container-id-2 div.sk-toggleable {background-color: white;}#sk-container-id-2 label.sk-toggleable__label {cursor: pointer;display: block;width: 100%;margin-bottom: 0;padding: 0.3em;box-sizing: border-box;text-align: center;}#sk-container-id-2 label.sk-toggleable__label-arrow:before {content: \"▸\";float: left;margin-right: 0.25em;color: #696969;}#sk-container-id-2 label.sk-toggleable__label-arrow:hover:before {color: black;}#sk-container-id-2 div.sk-estimator:hover label.sk-toggleable__label-arrow:before {color: black;}#sk-container-id-2 div.sk-toggleable__content {max-height: 0;max-width: 0;overflow: hidden;text-align: left;background-color: #f0f8ff;}#sk-container-id-2 div.sk-toggleable__content pre {margin: 0.2em;color: black;border-radius: 0.25em;background-color: #f0f8ff;}#sk-container-id-2 input.sk-toggleable__control:checked~div.sk-toggleable__content {max-height: 200px;max-width: 100%;overflow: auto;}#sk-container-id-2 input.sk-toggleable__control:checked~label.sk-toggleable__label-arrow:before {content: \"▾\";}#sk-container-id-2 div.sk-estimator input.sk-toggleable__control:checked~label.sk-toggleable__label {background-color: #d4ebff;}#sk-container-id-2 div.sk-label input.sk-toggleable__control:checked~label.sk-toggleable__label {background-color: #d4ebff;}#sk-container-id-2 input.sk-hidden--visually {border: 0;clip: rect(1px 1px 1px 1px);clip: rect(1px, 1px, 1px, 1px);height: 1px;margin: -1px;overflow: hidden;padding: 0;position: absolute;width: 1px;}#sk-container-id-2 div.sk-estimator {font-family: monospace;background-color: #f0f8ff;border: 1px dotted black;border-radius: 0.25em;box-sizing: border-box;margin-bottom: 0.5em;}#sk-container-id-2 div.sk-estimator:hover {background-color: #d4ebff;}#sk-container-id-2 div.sk-parallel-item::after {content: \"\";width: 100%;border-bottom: 1px solid gray;flex-grow: 1;}#sk-container-id-2 div.sk-label:hover label.sk-toggleable__label {background-color: #d4ebff;}#sk-container-id-2 div.sk-serial::before {content: \"\";position: absolute;border-left: 1px solid gray;box-sizing: border-box;top: 0;bottom: 0;left: 50%;z-index: 0;}#sk-container-id-2 div.sk-serial {display: flex;flex-direction: column;align-items: center;background-color: white;padding-right: 0.2em;padding-left: 0.2em;position: relative;}#sk-container-id-2 div.sk-item {position: relative;z-index: 1;}#sk-container-id-2 div.sk-parallel {display: flex;align-items: stretch;justify-content: center;background-color: white;position: relative;}#sk-container-id-2 div.sk-item::before, #sk-container-id-2 div.sk-parallel-item::before {content: \"\";position: absolute;border-left: 1px solid gray;box-sizing: border-box;top: 0;bottom: 0;left: 50%;z-index: -1;}#sk-container-id-2 div.sk-parallel-item {display: flex;flex-direction: column;z-index: 1;position: relative;background-color: white;}#sk-container-id-2 div.sk-parallel-item:first-child::after {align-self: flex-end;width: 50%;}#sk-container-id-2 div.sk-parallel-item:last-child::after {align-self: flex-start;width: 50%;}#sk-container-id-2 div.sk-parallel-item:only-child::after {width: 0;}#sk-container-id-2 div.sk-dashed-wrapped {border: 1px dashed gray;margin: 0 0.4em 0.5em 0.4em;box-sizing: border-box;padding-bottom: 0.4em;background-color: white;}#sk-container-id-2 div.sk-label label {font-family: monospace;font-weight: bold;display: inline-block;line-height: 1.2em;}#sk-container-id-2 div.sk-label-container {text-align: center;}#sk-container-id-2 div.sk-container {/* jupyter's `normalize.less` sets `[hidden] { display: none; }` but bootstrap.min.css set `[hidden] { display: none !important; }` so we also need the `!important` here to be able to override the default hidden behavior on the sphinx rendered scikit-learn.org. See: https://github.com/scikit-learn/scikit-learn/issues/21755 */display: inline-block !important;position: relative;}#sk-container-id-2 div.sk-text-repr-fallback {display: none;}</style><div id=\"sk-container-id-2\" class=\"sk-top-container\"><div class=\"sk-text-repr-fallback\"><pre>SVC(kernel=&#x27;linear&#x27;)</pre><b>In a Jupyter environment, please rerun this cell to show the HTML representation or trust the notebook. <br />On GitHub, the HTML representation is unable to render, please try loading this page with nbviewer.org.</b></div><div class=\"sk-container\" hidden><div class=\"sk-item\"><div class=\"sk-estimator sk-toggleable\"><input class=\"sk-toggleable__control sk-hidden--visually\" id=\"sk-estimator-id-2\" type=\"checkbox\" checked><label for=\"sk-estimator-id-2\" class=\"sk-toggleable__label sk-toggleable__label-arrow\">SVC</label><div class=\"sk-toggleable__content\"><pre>SVC(kernel=&#x27;linear&#x27;)</pre></div></div></div></div></div>"
            ]
          },
          "metadata": {},
          "execution_count": 13
        }
      ]
    },
    {
      "cell_type": "code",
      "source": [
        "y_pred = model.predict(X_test[:100])\n",
        "accuracy = accuracy_score(y_test[:100], y_pred)"
      ],
      "metadata": {
        "id": "ZKcIZvu1xO5C"
      },
      "execution_count": null,
      "outputs": []
    },
    {
      "cell_type": "code",
      "source": [
        "print(f\"Model accuracy: {accuracy * 100:.2f}%\")"
      ],
      "metadata": {
        "colab": {
          "base_uri": "https://localhost:8080/"
        },
        "id": "EZx3HLyZxSBG",
        "outputId": "9290d646-6e2a-46b2-fb5f-984376ddeec4"
      },
      "execution_count": null,
      "outputs": [
        {
          "output_type": "stream",
          "name": "stdout",
          "text": [
            "Model accuracy: 55.00%\n"
          ]
        }
      ]
    }
  ]
}